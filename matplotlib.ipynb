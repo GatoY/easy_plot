{
 "cells": [
  {
   "cell_type": "code",
   "execution_count": 1,
   "metadata": {},
   "outputs": [],
   "source": [
    "import matplotlib.pyplot as plt\n",
    "import pandas as pd"
   ]
  },
  {
   "cell_type": "code",
   "execution_count": 2,
   "metadata": {},
   "outputs": [],
   "source": [
    "d = pd.DataFrame(columns = ['x', 'y'])"
   ]
  },
  {
   "cell_type": "code",
   "execution_count": 3,
   "metadata": {},
   "outputs": [],
   "source": [
    "d['x'] = [1, 2, 3, 4, 5, 6, 7, 8]\n",
    "d['y'] = [1, 3, 4, 7, 11, 18, 29, 47]"
   ]
  },
  {
   "cell_type": "markdown",
   "metadata": {},
   "source": [
    "## Draw Line"
   ]
  },
  {
   "cell_type": "code",
   "execution_count": 4,
   "metadata": {},
   "outputs": [],
   "source": [
    "\n",
    "\"\"\"\n",
    "Plot y versus x as lines and/or markers.\n",
    "\n",
    "Call signatures::\n",
    "\n",
    "    plot([x], y, [fmt], data=None, **kwargs)\n",
    "    plot([x], y, [fmt], [x2], y2, [fmt2], ..., **kwargs)\n",
    "\n",
    ">>> plot(x, y, color='green', marker='o', linestyle='dashed',\n",
    "        linewidth=2, markersize=12)\n",
    "\n",
    "Parameters\n",
    "----------\n",
    "x, y : array-like or scalar\n",
    "    The horizontal / vertical coordinates of the data points.\n",
    "    *x* values are optional. If not given, they default to\n",
    "    ``[0, ..., N-1]``.\n",
    "\n",
    "    Commonly, these parameters are arrays of length N. However,\n",
    "    scalars are supported as well (equivalent to an array with\n",
    "    constant value).\n",
    "\n",
    "    The parameters can also be 2-dimensional. Then, the columns\n",
    "    represent separate data sets.\n",
    "\n",
    "fmt : str, optional\n",
    "    A format string, e.g. 'ro' for red circles. See the *Notes*\n",
    "    section for a full description of the format strings.\n",
    "\n",
    "    Format strings are just an abbreviation for quickly setting\n",
    "    basic line properties. All of these and more can also be\n",
    "    controlled by keyword arguments.\n",
    "\n",
    "data : indexable object, optional\n",
    "    An object with labelled data. If given, provide the label names to\n",
    "    plot in *x* and *y*.\n",
    "\n",
    "    .. note::\n",
    "        Technically there's a slight ambiguity in calls where the\n",
    "        second label is a valid *fmt*. `plot('n', 'o', data=obj)`\n",
    "        could be `plt(x, y)` or `plt(y, fmt)`. In such cases,\n",
    "        the former interpretation is chosen, but a warning is issued.\n",
    "        You may suppress the warning by adding an empty format string\n",
    "        `plot('n', 'o', '', data=obj)`.\n",
    "\n",
    "\n",
    "Other Parameters\n",
    "----------------\n",
    "scalex, scaley : bool, optional, default: True\n",
    "    These parameters determined if the view limits are adapted to\n",
    "    the data limits. The values are passed on to `autoscale_view`.\n",
    "\n",
    "**kwargs : `.Line2D` properties, optional\n",
    "    *kwargs* are used to specify properties like a line label (for\n",
    "    auto legends), linewidth, antialiasing, marker face color.\n",
    "    Example::\n",
    "\n",
    "    >>> plot([1,2,3], [1,2,3], 'go-', label='line 1', linewidth=2)\n",
    "    >>> plot([1,2,3], [1,4,9], 'rs',  label='line 2')\n",
    "\n",
    "    If you make multiple lines with one plot command, the kwargs\n",
    "    apply to all those lines.\n",
    "\n",
    "    Here is a list of available `.Line2D` properties:\n",
    "\n",
    "    %(Line2D)s\n",
    "\n",
    "Returns\n",
    "-------\n",
    "lines\n",
    "    A list of `.Line2D` objects representing the plotted data.\n",
    "\n",
    "Notes\n",
    "-----\n",
    "**Format Strings**\n",
    "\n",
    "A format string consists of a part for color, marker and line::\n",
    "\n",
    "    fmt = '[color][marker][line]'\n",
    "\n",
    "Each of them is optional. If not provided, the value from the style\n",
    "cycle is used. Exception: If ``line`` is given, but no ``marker``,\n",
    "the data will be a line without markers.\n",
    "\n",
    "**Colors**\n",
    "\n",
    "The following color abbreviations are supported:\n",
    "\n",
    "=============    ===============================\n",
    "character        color\n",
    "=============    ===============================\n",
    "``'b'``          blue\n",
    "``'g'``          green\n",
    "``'r'``          red\n",
    "``'c'``          cyan\n",
    "``'m'``          magenta\n",
    "``'y'``          yellow\n",
    "``'k'``          black\n",
    "``'w'``          white\n",
    "=============    ===============================\n",
    "\n",
    "If the color is the only part of the format string, you can\n",
    "additionally use any  `matplotlib.colors` spec, e.g. full names\n",
    "(``'green'``) or hex strings (``'#008000'``).\n",
    "\n",
    "**Markers**\n",
    "\n",
    "=============    ===============================\n",
    "character        description\n",
    "=============    ===============================\n",
    "``'.'``          point marker\n",
    "``','``          pixel marker\n",
    "``'o'``          circle marker\n",
    "``'v'``          triangle_down marker\n",
    "``'^'``          triangle_up marker\n",
    "``'<'``          triangle_left marker\n",
    "``'>'``          triangle_right marker\n",
    "``'1'``          tri_down marker\n",
    "``'2'``          tri_up marker\n",
    "``'3'``          tri_left marker\n",
    "``'4'``          tri_right marker\n",
    "``'s'``          square marker\n",
    "``'p'``          pentagon marker\n",
    "``'*'``          star marker\n",
    "``'h'``          hexagon1 marker\n",
    "``'H'``          hexagon2 marker\n",
    "``'+'``          plus marker\n",
    "``'x'``          x marker\n",
    "``'D'``          diamond marker\n",
    "``'d'``          thin_diamond marker\n",
    "``'|'``          vline marker\n",
    "``'_'``          hline marker\n",
    "=============    ===============================\n",
    "\n",
    "**Line Styles**\n",
    "\n",
    "=============    ===============================\n",
    "character        description\n",
    "=============    ===============================\n",
    "``'-'``          solid line style\n",
    "``'--'``         dashed line style\n",
    "``'-.'``         dash-dot line style\n",
    "``':'``          dotted line style\n",
    "=============    ===============================\n",
    "\n",
    "Example format strings::\n",
    "\n",
    "    'b'    # blue markers with default shape\n",
    "    'ro'   # red circles\n",
    "    'g-'   # green solid line\n",
    "    '--'   # dashed line with default color\n",
    "    'k^:'  # black triangle_up markers connected by a dotted line\n",
    "\n",
    "\"\"\"\n",
    "pass"
   ]
  },
  {
   "cell_type": "code",
   "execution_count": 5,
   "metadata": {},
   "outputs": [
    {
     "data": {
      "text/plain": [
       "[<matplotlib.lines.Line2D at 0x7f30d75e2908>]"
      ]
     },
     "execution_count": 5,
     "metadata": {},
     "output_type": "execute_result"
    },
    {
     "data": {
      "image/png": "[encoded data removed]",
      "text/plain": [
       "<Figure size 432x288 with 1 Axes>"
      ]
     },
     "metadata": {
      "needs_background": "light"
     },
     "output_type": "display_data"
    }
   ],
   "source": [
    "plt.plot(d['x'], d['y'])"
   ]
  },
  {
   "cell_type": "code",
   "execution_count": null,
   "metadata": {},
   "outputs": [],
   "source": []
  }
 ],
 "metadata": {
  "kernelspec": {
   "display_name": "Python 3",
   "language": "python",
   "name": "python3"
  },
  "language_info": {
   "codemirror_mode": {
    "name": "ipython",
    "version": 3
   },
   "file_extension": ".py",
   "mimetype": "text/x-python",
   "name": "python",
   "nbconvert_exporter": "python",
   "pygments_lexer": "ipython3",
   "version": "3.6.9"
  }
 },
 "nbformat": 4,
 "nbformat_minor": 4
}
